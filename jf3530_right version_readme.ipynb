{
 "cells": [
  {
   "cell_type": "code",
   "execution_count": 1,
   "id": "c4063b60-5852-47e9-89b4-b1f3db648049",
   "metadata": {
    "tags": []
   },
   "outputs": [
    {
     "data": {
      "text/plain": [
       "'jf3530'"
      ]
     },
     "execution_count": 1,
     "metadata": {},
     "output_type": "execute_result"
    }
   ],
   "source": [
    "def WhoAmI():\n",
    "    return('jf3530')\n",
    "\n",
    "WhoAmI()"
   ]
  },
  {
   "cell_type": "code",
   "execution_count": 4,
   "id": "df5bfe7e-117a-4125-96a3-c357847aa036",
   "metadata": {
    "tags": []
   },
   "outputs": [
    {
     "data": {
      "text/plain": [
       "2170604.0567355165"
      ]
     },
     "execution_count": 4,
     "metadata": {},
     "output_type": "execute_result"
    }
   ],
   "source": [
    "def getBondPrice(y,face,couponRate,m, ppy=1):\n",
    "    pvcfsum = 0\n",
    "    cf = couponRate*face/ppy\n",
    "    for t in range(1,m*ppy+1):\n",
    "        pv = (1+y/ppy)**(-t)\n",
    "        pvcf = pv*cf\n",
    "        pvcfsum +=pvcf\n",
    "        BondPrice= pvcfsum+pv*face\n",
    "    return(BondPrice)\n",
    "\n",
    "# Test values\n",
    "\n",
    "y = 0.03\n",
    "face = 2000000\n",
    "couponRate = 0.04\n",
    "m = 10\n",
    "ppy = 1\n",
    "\n",
    "getBondPrice(y,face,couponRate,m, ppy=1)"
   ]
  },
  {
   "cell_type": "code",
   "execution_count": 6,
   "id": "7086108b-e85f-48ea-b3c9-784c9f558fab",
   "metadata": {
    "tags": []
   },
   "outputs": [
    {
     "data": {
      "text/plain": [
       "8.419764690678013"
      ]
     },
     "execution_count": 6,
     "metadata": {},
     "output_type": "execute_result"
    }
   ],
   "source": [
    "def getBondDuration(y,face,couponRate,m,ppy=1):\n",
    "    pvcf_sum = 0\n",
    "    wt_sum = 0\n",
    "    cf = couponRate*face/ppy\n",
    "    for t in range(1,m*ppy+1):\n",
    "        pv = (1+y/ppy)**(-t)\n",
    "        pvcf = pv*cf\n",
    "        pvcf_sum +=pvcf\n",
    "        wt = pvcf*t/ppy\n",
    "        wt_sum += wt\n",
    "    pvcf_sum = pvcf_sum+face*pv\n",
    "    wt_sum = wt_sum+face*pv*t/ppy\n",
    "    BondDuration = wt_sum/pvcf_sum\n",
    "    return(BondDuration)\n",
    "\n",
    "getBondDuration(y,face,couponRate,m,2)"
   ]
  },
  {
   "cell_type": "code",
   "execution_count": 22,
   "id": "0ed51aae-8a98-44da-9f8c-77c1cea37638",
   "metadata": {
    "tags": []
   },
   "outputs": [
    {
     "data": {
      "text/plain": [
       "2098948.9705506554"
      ]
     },
     "execution_count": 22,
     "metadata": {},
     "output_type": "execute_result"
    }
   ],
   "source": [
    "def getBondPrice(yc, face, couponRate, m):\n",
    "    \n",
    "    pvcfsum = 0\n",
    "    cf = face * couponRate\n",
    "    for i in range(1,m+1):\n",
    "        pv = (1+yc[i-1])**(-i)\n",
    "        pvcf = pv * cf\n",
    "        pvcfsum += pvcf\n",
    "    bondPrice = pvcfsum + face*pv\n",
    "    return (bondPrice)\n",
    "\n",
    "\n",
    "# Test values\n",
    "\n",
    "yc = [.010,.015,.020,.025,.030]\n",
    "face = 2000000\n",
    "couponRate = .04\n",
    "m = 5\n",
    "\n",
    "getBondPrice(yc, face, couponRate, m)"
   ]
  },
  {
   "cell_type": "code",
   "execution_count": 24,
   "id": "958fe204-af48-4237-b59f-3c8bcc7834f2",
   "metadata": {
    "tags": []
   },
   "outputs": [
    {
     "data": {
      "text/plain": [
       "1996533.2719139734"
      ]
     },
     "execution_count": 24,
     "metadata": {},
     "output_type": "execute_result"
    }
   ],
   "source": [
    "def getBondPrice_Z(face, couponRate, times, yc):\n",
    "    \n",
    "    cf = face * couponRate\n",
    "    pvcfsum = 0\n",
    "    \n",
    "    for i,j in zip(times,range(1,6)):\n",
    "        pv = (1+yc[j-1])**(-i)\n",
    "        pvcf = pv * cf\n",
    "        pvcfsum += pvcf\n",
    "        \n",
    "    bondPrice = pvcfsum + face*pv\n",
    "    return(bondPrice)\n",
    "\n",
    "# Test values\n",
    "\n",
    "yc = [.010,.015,.020,.025,.030]\n",
    "times=[1,1.5,3,4,7]\n",
    "face = 2000000\n",
    "couponRate = .04\n",
    "\n",
    "getBondPrice_Z(face, couponRate, times, yc)"
   ]
  },
  {
   "cell_type": "code",
   "execution_count": 21,
   "id": "4fbd1391-c2e9-482c-8c42-83bdd2800929",
   "metadata": {
    "tags": []
   },
   "outputs": [
    {
     "data": {
      "text/plain": [
       "['buzz',\n",
       " 11,\n",
       " 'fizz',\n",
       " 13,\n",
       " 14,\n",
       " 'fizzbuzz',\n",
       " 16,\n",
       " 17,\n",
       " 'fizz',\n",
       " 19,\n",
       " 'buzz',\n",
       " 'fizz',\n",
       " 22,\n",
       " 23,\n",
       " 'fizz',\n",
       " 'buzz',\n",
       " 26,\n",
       " 'fizz',\n",
       " 28,\n",
       " 29,\n",
       " 'fizzbuzz']"
      ]
     },
     "execution_count": 21,
     "metadata": {},
     "output_type": "execute_result"
    }
   ],
   "source": [
    "def FizzBuzz(start,finish):\n",
    "    outlist = []\n",
    "    for i in range(start,finish+1):\n",
    "        if i%3 == 0 and i % 5 == 0 :\n",
    "            outlist.append('fizzbuzz')\n",
    "        elif i%3 ==0:\n",
    "            outlist.append('fizz')\n",
    "        elif i%5 ==0:\n",
    "            outlist.append('buzz')\n",
    "        else:\n",
    "            outlist.append(i)\n",
    "    return(outlist)\n",
    "\n",
    "FizzBuzz(10, 30)"
   ]
  }
 ],
 "metadata": {
  "kernelspec": {
   "display_name": "Python 3 (ipykernel)",
   "language": "python",
   "name": "python3"
  },
  "language_info": {
   "codemirror_mode": {
    "name": "ipython",
    "version": 3
   },
   "file_extension": ".py",
   "mimetype": "text/x-python",
   "name": "python",
   "nbconvert_exporter": "python",
   "pygments_lexer": "ipython3",
   "version": "3.11.5"
  }
 },
 "nbformat": 4,
 "nbformat_minor": 5
}
